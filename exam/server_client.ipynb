{
 "cells": [
  {
   "cell_type": "code",
   "execution_count": 201,
   "metadata": {
    "ExecuteTime": {
     "end_time": "2024-01-21T12:34:19.063354Z",
     "start_time": "2024-01-21T12:34:16.049394Z"
    }
   },
   "outputs": [
    {
     "name": "stderr",
     "output_type": "stream",
     "text": [
      "[autoreload of uniflow.op.basic.expand_op failed: Traceback (most recent call last):\n",
      "  File \"/Users/ringotc/miniconda3/envs/dev/lib/python3.8/site-packages/IPython/extensions/autoreload.py\", line 273, in check\n",
      "    superreload(m, reload, self.old_objects)\n",
      "  File \"/Users/ringotc/miniconda3/envs/dev/lib/python3.8/site-packages/IPython/extensions/autoreload.py\", line 496, in superreload\n",
      "    update_generic(old_obj, new_obj)\n",
      "  File \"/Users/ringotc/miniconda3/envs/dev/lib/python3.8/site-packages/IPython/extensions/autoreload.py\", line 393, in update_generic\n",
      "    update(a, b)\n",
      "  File \"/Users/ringotc/miniconda3/envs/dev/lib/python3.8/site-packages/IPython/extensions/autoreload.py\", line 345, in update_class\n",
      "    if update_generic(old_obj, new_obj):\n",
      "  File \"/Users/ringotc/miniconda3/envs/dev/lib/python3.8/site-packages/IPython/extensions/autoreload.py\", line 393, in update_generic\n",
      "    update(a, b)\n",
      "  File \"/Users/ringotc/miniconda3/envs/dev/lib/python3.8/site-packages/IPython/extensions/autoreload.py\", line 305, in update_function\n",
      "    setattr(old, name, getattr(new, name))\n",
      "ValueError: __init__() requires a code object with 0 free vars, not 1\n",
      "]\n",
      "[autoreload of uniflow.op.basic.reduce_op failed: Traceback (most recent call last):\n",
      "  File \"/Users/ringotc/miniconda3/envs/dev/lib/python3.8/site-packages/IPython/extensions/autoreload.py\", line 273, in check\n",
      "    superreload(m, reload, self.old_objects)\n",
      "  File \"/Users/ringotc/miniconda3/envs/dev/lib/python3.8/site-packages/IPython/extensions/autoreload.py\", line 496, in superreload\n",
      "    update_generic(old_obj, new_obj)\n",
      "  File \"/Users/ringotc/miniconda3/envs/dev/lib/python3.8/site-packages/IPython/extensions/autoreload.py\", line 393, in update_generic\n",
      "    update(a, b)\n",
      "  File \"/Users/ringotc/miniconda3/envs/dev/lib/python3.8/site-packages/IPython/extensions/autoreload.py\", line 345, in update_class\n",
      "    if update_generic(old_obj, new_obj):\n",
      "  File \"/Users/ringotc/miniconda3/envs/dev/lib/python3.8/site-packages/IPython/extensions/autoreload.py\", line 393, in update_generic\n",
      "    update(a, b)\n",
      "  File \"/Users/ringotc/miniconda3/envs/dev/lib/python3.8/site-packages/IPython/extensions/autoreload.py\", line 305, in update_function\n",
      "    setattr(old, name, getattr(new, name))\n",
      "ValueError: __init__() requires a code object with 0 free vars, not 1\n",
      "]\n"
     ]
    }
   ],
   "source": [
    "%reload_ext autoreload\n",
    "%autoreload 2\n",
    "\n",
    "import sys\n",
    "\n",
    "sys.path.append(\".\")\n",
    "sys.path.append(\"..\")\n",
    "sys.path.append(\"../..\")"
   ]
  },
  {
   "cell_type": "code",
   "execution_count": 202,
   "metadata": {
    "ExecuteTime": {
     "end_time": "2024-01-21T12:34:19.228920Z",
     "start_time": "2024-01-21T12:34:19.064336Z"
    }
   },
   "outputs": [],
   "source": [
    "from uniflow.flow.client import TransformClient\n",
    "from uniflow.flow.config import TransformCopyConfig\n",
    "from uniflow.flow.config import TransformExpandReduceConfig\n",
    "from uniflow.flow.flow_factory import FlowFactory\n",
    "from uniflow.viz import Viz"
   ]
  },
  {
   "cell_type": "code",
   "execution_count": 203,
   "metadata": {
    "ExecuteTime": {
     "end_time": "2024-01-21T12:34:19.392443Z",
     "start_time": "2024-01-21T12:34:19.229047Z"
    }
   },
   "outputs": [
    {
     "name": "stdout",
     "output_type": "stream",
     "text": [
      "thread_0/expand_1\n",
      "thread_0/expand_2\n",
      "thread_0/reduce_1\n",
      "thread_0/expand_3\n",
      "thread_0/expand_4\n",
      "thread_0/reduce_2\n"
     ]
    },
    {
     "data": {
      "text/plain": "  0%|          | 0/2 [00:00<?, ?it/s]",
      "application/vnd.jupyter.widget-view+json": {
       "version_major": 2,
       "version_minor": 0,
       "model_id": "5c07b749a3bc4c1c95f53b820e935c5e"
      }
     },
     "metadata": {},
     "output_type": "display_data"
    }
   ],
   "source": [
    "client = TransformClient(TransformExpandReduceConfig())\n",
    "input = [{\"How are you?\": \"Fine.\", \"Who are you?\": \"I am Bob.\"}, {\"Where are you?\": \"I am at home.\", \"What are you doing?\": \"Coding.\"}]\n",
    "output = client.run(input)"
   ]
  },
  {
   "cell_type": "code",
   "execution_count": 204,
   "metadata": {
    "ExecuteTime": {
     "end_time": "2024-01-21T12:34:19.559557Z",
     "start_time": "2024-01-21T12:34:19.397202Z"
    }
   },
   "outputs": [
    {
     "data": {
      "text/plain": "[{'output': [{'How are you? Who are you?': 'Fine. I am Bob.'}],\n  'root': <uniflow.node.Node at 0x108a0a970>},\n {'output': [{'Where are you? What are you doing?': 'I am at home. Coding.'}],\n  'root': <uniflow.node.Node at 0x10890beb0>}]"
     },
     "execution_count": 204,
     "metadata": {},
     "output_type": "execute_result"
    }
   ],
   "source": [
    "output"
   ]
  },
  {
   "cell_type": "code",
   "execution_count": 205,
   "outputs": [
    {
     "data": {
      "text/plain": "<uniflow.node.Node at 0x108a0a970>"
     },
     "execution_count": 205,
     "metadata": {},
     "output_type": "execute_result"
    }
   ],
   "source": [
    "output[0][\"root\"]"
   ],
   "metadata": {
    "collapsed": false,
    "ExecuteTime": {
     "end_time": "2024-01-21T12:34:19.723369Z",
     "start_time": "2024-01-21T12:34:19.558680Z"
    }
   }
  },
  {
   "cell_type": "code",
   "execution_count": 208,
   "metadata": {
    "ExecuteTime": {
     "end_time": "2024-01-21T12:36:08.183981Z",
     "start_time": "2024-01-21T12:36:08.020238Z"
    }
   },
   "outputs": [],
   "source": [
    "graph = Viz.to_digraph(output[0][\"root\"])"
   ]
  },
  {
   "cell_type": "code",
   "execution_count": 209,
   "metadata": {
    "ExecuteTime": {
     "end_time": "2024-01-21T12:36:09.381012Z",
     "start_time": "2024-01-21T12:36:09.112472Z"
    }
   },
   "outputs": [
    {
     "data": {
      "image/svg+xml": "<?xml version=\"1.0\" encoding=\"UTF-8\" standalone=\"no\"?>\n<!DOCTYPE svg PUBLIC \"-//W3C//DTD SVG 1.1//EN\"\n \"http://www.w3.org/Graphics/SVG/1.1/DTD/svg11.dtd\">\n<!-- Generated by graphviz version 9.0.0 (20230911.1827)\n -->\n<!-- Pages: 1 -->\n<svg width=\"352pt\" height=\"188pt\"\n viewBox=\"0.00 0.00 352.10 188.00\" xmlns=\"http://www.w3.org/2000/svg\" xmlns:xlink=\"http://www.w3.org/1999/xlink\">\n<g id=\"graph0\" class=\"graph\" transform=\"scale(1 1) rotate(0) translate(4 184)\">\n<polygon fill=\"white\" stroke=\"none\" points=\"-4,4 -4,-184 348.1,-184 348.1,4 -4,4\"/>\n<!-- root -->\n<g id=\"node1\" class=\"node\">\n<title>root</title>\n<ellipse fill=\"none\" stroke=\"black\" cx=\"171.55\" cy=\"-162\" rx=\"27\" ry=\"18\"/>\n<text text-anchor=\"middle\" x=\"171.55\" y=\"-156.95\" font-family=\"Times,serif\" font-size=\"14.00\">root</text>\n</g>\n<!-- thread_0/expand_1 -->\n<g id=\"node2\" class=\"node\">\n<title>thread_0/expand_1</title>\n<ellipse fill=\"none\" stroke=\"black\" cx=\"81.55\" cy=\"-90\" rx=\"81.55\" ry=\"18\"/>\n<text text-anchor=\"middle\" x=\"81.55\" y=\"-84.95\" font-family=\"Times,serif\" font-size=\"14.00\">thread_0/expand_1</text>\n</g>\n<!-- root&#45;&gt;thread_0/expand_1 -->\n<g id=\"edge1\" class=\"edge\">\n<title>root&#45;&gt;thread_0/expand_1</title>\n<path fill=\"none\" stroke=\"black\" d=\"M154.62,-147.83C142.67,-138.54 126.33,-125.83 112.13,-114.79\"/>\n<polygon fill=\"black\" stroke=\"black\" points=\"114.42,-112.13 104.37,-108.75 110.12,-117.66 114.42,-112.13\"/>\n</g>\n<!-- thread_0/expand_2 -->\n<g id=\"node3\" class=\"node\">\n<title>thread_0/expand_2</title>\n<ellipse fill=\"none\" stroke=\"black\" cx=\"262.55\" cy=\"-90\" rx=\"81.55\" ry=\"18\"/>\n<text text-anchor=\"middle\" x=\"262.55\" y=\"-84.95\" font-family=\"Times,serif\" font-size=\"14.00\">thread_0/expand_2</text>\n</g>\n<!-- root&#45;&gt;thread_0/expand_2 -->\n<g id=\"edge2\" class=\"edge\">\n<title>root&#45;&gt;thread_0/expand_2</title>\n<path fill=\"none\" stroke=\"black\" d=\"M188.66,-147.83C200.74,-138.54 217.27,-125.83 231.62,-114.79\"/>\n<polygon fill=\"black\" stroke=\"black\" points=\"233.69,-117.62 239.48,-108.75 229.42,-112.07 233.69,-117.62\"/>\n</g>\n<!-- thread_0/reduce_1 -->\n<g id=\"node4\" class=\"node\">\n<title>thread_0/reduce_1</title>\n<ellipse fill=\"none\" stroke=\"black\" cx=\"171.55\" cy=\"-18\" rx=\"79.5\" ry=\"18\"/>\n<text text-anchor=\"middle\" x=\"171.55\" y=\"-12.95\" font-family=\"Times,serif\" font-size=\"14.00\">thread_0/reduce_1</text>\n</g>\n<!-- thread_0/expand_1&#45;&gt;thread_0/reduce_1 -->\n<g id=\"edge3\" class=\"edge\">\n<title>thread_0/expand_1&#45;&gt;thread_0/reduce_1</title>\n<path fill=\"none\" stroke=\"black\" d=\"M102.88,-72.41C114.34,-63.5 128.66,-52.36 141.26,-42.56\"/>\n<polygon fill=\"black\" stroke=\"black\" points=\"143.12,-45.54 148.87,-36.64 138.82,-40.02 143.12,-45.54\"/>\n</g>\n<!-- thread_0/expand_2&#45;&gt;thread_0/reduce_1 -->\n<g id=\"edge4\" class=\"edge\">\n<title>thread_0/expand_2&#45;&gt;thread_0/reduce_1</title>\n<path fill=\"none\" stroke=\"black\" d=\"M240.98,-72.41C229.39,-63.5 214.91,-52.36 202.17,-42.56\"/>\n<polygon fill=\"black\" stroke=\"black\" points=\"204.53,-39.96 194.47,-36.64 200.27,-45.51 204.53,-39.96\"/>\n</g>\n</g>\n</svg>\n",
      "text/plain": "<graphviz.graphs.Digraph at 0x108a09e80>"
     },
     "metadata": {},
     "output_type": "display_data"
    }
   ],
   "source": [
    "display(graph)"
   ]
  },
  {
   "cell_type": "code",
   "execution_count": null,
   "outputs": [],
   "source": [],
   "metadata": {
    "collapsed": false
   }
  },
  {
   "cell_type": "code",
   "execution_count": null,
   "outputs": [],
   "source": [],
   "metadata": {
    "collapsed": false
   }
  },
  {
   "cell_type": "markdown",
   "source": [],
   "metadata": {
    "collapsed": false
   }
  }
 ],
 "metadata": {
  "kernelspec": {
   "display_name": "uniflow",
   "language": "python",
   "name": "python3"
  },
  "language_info": {
   "codemirror_mode": {
    "name": "ipython",
    "version": 3
   },
   "file_extension": ".py",
   "mimetype": "text/x-python",
   "name": "python",
   "nbconvert_exporter": "python",
   "pygments_lexer": "ipython3",
   "version": "3.10.13"
  }
 },
 "nbformat": 4,
 "nbformat_minor": 2
}
